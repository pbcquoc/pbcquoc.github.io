{
 "cells": [
  {
   "cell_type": "markdown",
   "metadata": {},
   "source": [
    "# 1. Giới thiệu\n",
    "Trong notebook này, mình sẽ trình bày cách giải quyết đề tài tuyển dụng của VinID. Mô hình CNN được sử dụng để phân loại 10 số viết tay trong bộ MNIST. Trong notebook này,bao gồm các phần sau:\n",
    "\n",
    "* **1. Giới thiệu**[](http://)\n",
    "* **2. Tiền xử lý dữ liệu**\n",
    "    * 2.1 Load dữ liệu\n",
    "    * 2.2 Kiểm tra missing value\n",
    "    * 2.3 Chuẩn hóa    \n",
    "    * 2.5 Label encoding\n",
    "    * 2.6 Xây dựng tập train/test\n",
    "* **3. Data augmentation**    \n",
    "* **4. Xây dựng mô hình**\n",
    "    * 4.1 Xây dựng mô hình\n",
    "* **5. Tunning parameter**    \n",
    "    * 5.1 Khai báo không gian tìm kiếm siêu tham số\n",
    "    * 5.2 Grid search\n",
    "* **6. So sánh các optimizer và loss function**    \n",
    "    * 6.1 So sánh optimizer\n",
    "    * 6.2 So sánh loss function\n",
    "* **7. Đánh giá mô hình**\n",
    "    * 7.1 Confusion matrix\n",
    "* **8. Dự đoán**\n",
    "    * 8.1 Predict and Submit results\n"
   ]
  },
  {
   "cell_type": "markdown",
   "metadata": {},
   "source": [
    "Cài đặt thư viện hyperas để hỗ trỡ quá trình tunning siêu tham số. Hyperas cung cấp các api rất tiện lợi cho quá trình theo huấn luyện và theo dõi độ chính xác của model tại mỗi bộ tham số. \n"
   ]
  },
  {
   "cell_type": "code",
   "execution_count": 1,
   "metadata": {},
   "outputs": [
    {
     "name": "stdout",
     "output_type": "stream",
     "text": [
      "Requirement already satisfied: hyperas in /root/anaconda3/lib/python3.6/site-packages (0.4.1)\n",
      "Requirement already satisfied: nbconvert in /root/anaconda3/lib/python3.6/site-packages (from hyperas) (5.3.1)\n",
      "Requirement already satisfied: keras in /root/anaconda3/lib/python3.6/site-packages (from hyperas) (2.2.4)\n",
      "Requirement already satisfied: hyperopt in /root/anaconda3/lib/python3.6/site-packages (from hyperas) (0.1.2)\n",
      "Requirement already satisfied: jupyter in /root/anaconda3/lib/python3.6/site-packages (from hyperas) (1.0.0)\n",
      "Requirement already satisfied: nbformat in /root/anaconda3/lib/python3.6/site-packages (from hyperas) (4.4.0)\n",
      "Requirement already satisfied: entrypoints in /root/anaconda3/lib/python3.6/site-packages (from hyperas) (0.2.3)\n",
      "Requirement already satisfied: mistune>=0.7.4 in /root/anaconda3/lib/python3.6/site-packages (from nbconvert->hyperas) (0.8.3)\n",
      "Requirement already satisfied: jinja2 in /root/anaconda3/lib/python3.6/site-packages (from nbconvert->hyperas) (2.10)\n",
      "Requirement already satisfied: pygments in /root/anaconda3/lib/python3.6/site-packages (from nbconvert->hyperas) (2.2.0)\n",
      "Requirement already satisfied: traitlets>=4.2 in /root/anaconda3/lib/python3.6/site-packages (from nbconvert->hyperas) (4.3.2)\n",
      "Requirement already satisfied: jupyter_core in /root/anaconda3/lib/python3.6/site-packages (from nbconvert->hyperas) (4.4.0)\n",
      "Requirement already satisfied: bleach in /root/anaconda3/lib/python3.6/site-packages (from nbconvert->hyperas) (2.1.3)\n",
      "Requirement already satisfied: pandocfilters>=1.4.1 in /root/anaconda3/lib/python3.6/site-packages (from nbconvert->hyperas) (1.4.2)\n",
      "Requirement already satisfied: testpath in /root/anaconda3/lib/python3.6/site-packages (from nbconvert->hyperas) (0.3.1)\n",
      "Requirement already satisfied: keras-applications>=1.0.6 in /root/.local/lib/python3.6/site-packages (from keras->hyperas) (1.0.6)\n",
      "Requirement already satisfied: numpy>=1.9.1 in /root/.local/lib/python3.6/site-packages (from keras->hyperas) (1.17.0)\n",
      "Requirement already satisfied: six>=1.9.0 in /root/.local/lib/python3.6/site-packages (from keras->hyperas) (1.12.0)\n",
      "Requirement already satisfied: scipy>=0.14 in /root/anaconda3/lib/python3.6/site-packages (from keras->hyperas) (1.3.0)\n",
      "Requirement already satisfied: pyyaml in /root/anaconda3/lib/python3.6/site-packages (from keras->hyperas) (3.12)\n",
      "Requirement already satisfied: keras-preprocessing>=1.0.5 in /root/.local/lib/python3.6/site-packages (from keras->hyperas) (1.0.5)\n",
      "Requirement already satisfied: h5py in /root/anaconda3/lib/python3.6/site-packages (from keras->hyperas) (2.7.1)\n",
      "Requirement already satisfied: networkx in /root/anaconda3/lib/python3.6/site-packages (from hyperopt->hyperas) (2.1)\n",
      "Requirement already satisfied: tqdm in /root/anaconda3/lib/python3.6/site-packages (from hyperopt->hyperas) (4.32.2)\n",
      "Requirement already satisfied: future in /root/.local/lib/python3.6/site-packages (from hyperopt->hyperas) (0.17.1)\n",
      "Requirement already satisfied: pymongo in /root/anaconda3/lib/python3.6/site-packages (from hyperopt->hyperas) (3.9.0)\n",
      "Requirement already satisfied: notebook in /root/anaconda3/lib/python3.6/site-packages (from jupyter->hyperas) (5.5.0)\n",
      "Requirement already satisfied: qtconsole in /root/anaconda3/lib/python3.6/site-packages (from jupyter->hyperas) (4.3.1)\n",
      "Requirement already satisfied: jupyter-console in /root/anaconda3/lib/python3.6/site-packages (from jupyter->hyperas) (5.2.0)\n",
      "Requirement already satisfied: ipykernel in /root/anaconda3/lib/python3.6/site-packages (from jupyter->hyperas) (4.8.2)\n",
      "Requirement already satisfied: ipywidgets in /root/anaconda3/lib/python3.6/site-packages (from jupyter->hyperas) (7.2.1)\n",
      "Requirement already satisfied: ipython_genutils in /root/anaconda3/lib/python3.6/site-packages (from nbformat->hyperas) (0.2.0)\n",
      "Requirement already satisfied: jsonschema!=2.5.0,>=2.4 in /root/anaconda3/lib/python3.6/site-packages (from nbformat->hyperas) (2.6.0)\n",
      "Requirement already satisfied: MarkupSafe>=0.23 in /root/anaconda3/lib/python3.6/site-packages (from jinja2->nbconvert->hyperas) (1.0)\n",
      "Requirement already satisfied: decorator in /root/anaconda3/lib/python3.6/site-packages (from traitlets>=4.2->nbconvert->hyperas) (4.3.0)\n",
      "Requirement already satisfied: html5lib!=1.0b1,!=1.0b2,!=1.0b3,!=1.0b4,!=1.0b5,!=1.0b6,!=1.0b7,!=1.0b8,>=0.99999999pre in /root/anaconda3/lib/python3.6/site-packages (from bleach->nbconvert->hyperas) (1.0.1)\n",
      "Requirement already satisfied: tornado>=4 in /root/anaconda3/lib/python3.6/site-packages (from notebook->jupyter->hyperas) (5.0.2)\n",
      "Requirement already satisfied: pyzmq>=17 in /root/anaconda3/lib/python3.6/site-packages (from notebook->jupyter->hyperas) (17.0.0)\n",
      "Requirement already satisfied: terminado>=0.8.1 in /root/anaconda3/lib/python3.6/site-packages (from notebook->jupyter->hyperas) (0.8.1)\n",
      "Requirement already satisfied: jupyter-client>=5.2.0 in /root/anaconda3/lib/python3.6/site-packages (from notebook->jupyter->hyperas) (5.2.3)\n",
      "Requirement already satisfied: Send2Trash in /root/anaconda3/lib/python3.6/site-packages (from notebook->jupyter->hyperas) (1.5.0)\n",
      "Requirement already satisfied: ipython in /root/anaconda3/lib/python3.6/site-packages (from jupyter-console->jupyter->hyperas) (6.4.0)\n",
      "Requirement already satisfied: prompt_toolkit<2.0.0,>=1.0.0 in /root/anaconda3/lib/python3.6/site-packages (from jupyter-console->jupyter->hyperas) (1.0.15)\n",
      "Requirement already satisfied: widgetsnbextension~=3.2.0 in /root/anaconda3/lib/python3.6/site-packages (from ipywidgets->jupyter->hyperas) (3.2.1)\n",
      "Requirement already satisfied: webencodings in /root/anaconda3/lib/python3.6/site-packages (from html5lib!=1.0b1,!=1.0b2,!=1.0b3,!=1.0b4,!=1.0b5,!=1.0b6,!=1.0b7,!=1.0b8,>=0.99999999pre->bleach->nbconvert->hyperas) (0.5.1)\n",
      "Requirement already satisfied: python-dateutil>=2.1 in /root/anaconda3/lib/python3.6/site-packages (from jupyter-client>=5.2.0->notebook->jupyter->hyperas) (2.7.3)\n",
      "Requirement already satisfied: pexpect; sys_platform != \"win32\" in /root/anaconda3/lib/python3.6/site-packages (from ipython->jupyter-console->jupyter->hyperas) (4.5.0)\n",
      "Requirement already satisfied: simplegeneric>0.8 in /root/anaconda3/lib/python3.6/site-packages (from ipython->jupyter-console->jupyter->hyperas) (0.8.1)\n",
      "Requirement already satisfied: pickleshare in /root/anaconda3/lib/python3.6/site-packages (from ipython->jupyter-console->jupyter->hyperas) (0.7.4)\n",
      "Requirement already satisfied: backcall in /root/anaconda3/lib/python3.6/site-packages (from ipython->jupyter-console->jupyter->hyperas) (0.1.0)\n",
      "Requirement already satisfied: jedi>=0.10 in /root/anaconda3/lib/python3.6/site-packages (from ipython->jupyter-console->jupyter->hyperas) (0.12.0)\n",
      "Requirement already satisfied: setuptools>=18.5 in /root/.local/lib/python3.6/site-packages (from ipython->jupyter-console->jupyter->hyperas) (41.1.0)\n",
      "Requirement already satisfied: wcwidth in /root/anaconda3/lib/python3.6/site-packages (from prompt_toolkit<2.0.0,>=1.0.0->jupyter-console->jupyter->hyperas) (0.1.7)\n",
      "Requirement already satisfied: ptyprocess>=0.5 in /root/anaconda3/lib/python3.6/site-packages (from pexpect; sys_platform != \"win32\"->ipython->jupyter-console->jupyter->hyperas) (0.5.2)\n",
      "Requirement already satisfied: parso>=0.2.0 in /root/anaconda3/lib/python3.6/site-packages (from jedi>=0.10->ipython->jupyter-console->jupyter->hyperas) (0.2.0)\n",
      "\u001b[33mWARNING: You are using pip version 19.2.2, however version 19.2.3 is available.\n",
      "You should consider upgrading via the 'pip install --upgrade pip' command.\u001b[0m\n"
     ]
    }
   ],
   "source": [
    "!pip install hyperas"
   ]
  },
  {
   "cell_type": "code",
   "execution_count": 2,
   "metadata": {
    "_cell_guid": "b1076dfc-b9ad-4769-8c92-a6c4dae69d19",
    "_uuid": "8f2839f25d086af736a60e9eeb907d3b93b6e0e5"
   },
   "outputs": [
    {
     "name": "stderr",
     "output_type": "stream",
     "text": [
      "/root/anaconda3/lib/python3.6/site-packages/h5py/__init__.py:36: FutureWarning: Conversion of the second argument of issubdtype from `float` to `np.floating` is deprecated. In future, it will be treated as `np.float64 == np.dtype(float).type`.\n",
      "  from ._conv import register_converters as _register_converters\n",
      "Using TensorFlow backend.\n",
      "/root/anaconda3/lib/python3.6/site-packages/tensorflow/python/framework/dtypes.py:516: FutureWarning: Passing (type, 1) or '1type' as a synonym of type is deprecated; in a future version of numpy, it will be understood as (type, (1,)) / '(1,)type'.\n",
      "  _np_qint8 = np.dtype([(\"qint8\", np.int8, 1)])\n",
      "/root/anaconda3/lib/python3.6/site-packages/tensorflow/python/framework/dtypes.py:517: FutureWarning: Passing (type, 1) or '1type' as a synonym of type is deprecated; in a future version of numpy, it will be understood as (type, (1,)) / '(1,)type'.\n",
      "  _np_quint8 = np.dtype([(\"quint8\", np.uint8, 1)])\n",
      "/root/anaconda3/lib/python3.6/site-packages/tensorflow/python/framework/dtypes.py:518: FutureWarning: Passing (type, 1) or '1type' as a synonym of type is deprecated; in a future version of numpy, it will be understood as (type, (1,)) / '(1,)type'.\n",
      "  _np_qint16 = np.dtype([(\"qint16\", np.int16, 1)])\n",
      "/root/anaconda3/lib/python3.6/site-packages/tensorflow/python/framework/dtypes.py:519: FutureWarning: Passing (type, 1) or '1type' as a synonym of type is deprecated; in a future version of numpy, it will be understood as (type, (1,)) / '(1,)type'.\n",
      "  _np_quint16 = np.dtype([(\"quint16\", np.uint16, 1)])\n",
      "/root/anaconda3/lib/python3.6/site-packages/tensorflow/python/framework/dtypes.py:520: FutureWarning: Passing (type, 1) or '1type' as a synonym of type is deprecated; in a future version of numpy, it will be understood as (type, (1,)) / '(1,)type'.\n",
      "  _np_qint32 = np.dtype([(\"qint32\", np.int32, 1)])\n",
      "/root/anaconda3/lib/python3.6/site-packages/tensorflow/python/framework/dtypes.py:525: FutureWarning: Passing (type, 1) or '1type' as a synonym of type is deprecated; in a future version of numpy, it will be understood as (type, (1,)) / '(1,)type'.\n",
      "  np_resource = np.dtype([(\"resource\", np.ubyte, 1)])\n",
      "/root/anaconda3/lib/python3.6/site-packages/tensorboard/compat/tensorflow_stub/dtypes.py:541: FutureWarning: Passing (type, 1) or '1type' as a synonym of type is deprecated; in a future version of numpy, it will be understood as (type, (1,)) / '(1,)type'.\n",
      "  _np_qint8 = np.dtype([(\"qint8\", np.int8, 1)])\n",
      "/root/anaconda3/lib/python3.6/site-packages/tensorboard/compat/tensorflow_stub/dtypes.py:542: FutureWarning: Passing (type, 1) or '1type' as a synonym of type is deprecated; in a future version of numpy, it will be understood as (type, (1,)) / '(1,)type'.\n",
      "  _np_quint8 = np.dtype([(\"quint8\", np.uint8, 1)])\n",
      "/root/anaconda3/lib/python3.6/site-packages/tensorboard/compat/tensorflow_stub/dtypes.py:543: FutureWarning: Passing (type, 1) or '1type' as a synonym of type is deprecated; in a future version of numpy, it will be understood as (type, (1,)) / '(1,)type'.\n",
      "  _np_qint16 = np.dtype([(\"qint16\", np.int16, 1)])\n",
      "/root/anaconda3/lib/python3.6/site-packages/tensorboard/compat/tensorflow_stub/dtypes.py:544: FutureWarning: Passing (type, 1) or '1type' as a synonym of type is deprecated; in a future version of numpy, it will be understood as (type, (1,)) / '(1,)type'.\n",
      "  _np_quint16 = np.dtype([(\"quint16\", np.uint16, 1)])\n",
      "/root/anaconda3/lib/python3.6/site-packages/tensorboard/compat/tensorflow_stub/dtypes.py:545: FutureWarning: Passing (type, 1) or '1type' as a synonym of type is deprecated; in a future version of numpy, it will be understood as (type, (1,)) / '(1,)type'.\n",
      "  _np_qint32 = np.dtype([(\"qint32\", np.int32, 1)])\n",
      "/root/anaconda3/lib/python3.6/site-packages/tensorboard/compat/tensorflow_stub/dtypes.py:550: FutureWarning: Passing (type, 1) or '1type' as a synonym of type is deprecated; in a future version of numpy, it will be understood as (type, (1,)) / '(1,)type'.\n",
      "  np_resource = np.dtype([(\"resource\", np.ubyte, 1)])\n"
     ]
    }
   ],
   "source": [
    "# Basic compuational libaries\n",
    "import pandas as pd\n",
    "import numpy as np\n",
    "import matplotlib.pyplot as plt\n",
    "import matplotlib.image as mpimg\n",
    "import seaborn as sns\n",
    "%matplotlib inline\n",
    "\n",
    "np.random.seed(2)\n",
    "\n",
    "from sklearn.model_selection import train_test_split\n",
    "from sklearn.metrics import confusion_matrix\n",
    "import itertools\n",
    "from sklearn.model_selection import KFold\n",
    "\n",
    "from keras.utils.np_utils import to_categorical # convert to one-hot-encoding\n",
    "from keras.layers import Dense, Dropout, Conv2D, GlobalAveragePooling2D, Flatten, GlobalMaxPooling2D\n",
    "from keras.layers import Dense, Dropout, Flatten, Conv2D, MaxPool2D, BatchNormalization\n",
    "from keras.models import Sequential\n",
    "from keras.optimizers import RMSprop, Adam, SGD, Nadam\n",
    "from keras.preprocessing.image import ImageDataGenerator\n",
    "from keras.callbacks import ReduceLROnPlateau, ModelCheckpoint, EarlyStopping\n",
    "from keras import regularizers\n",
    "\n",
    "# Import hyperopt for tunning hyper params\n",
    "from hyperopt import hp, tpe, fmin\n",
    "from hyperopt import space_eval\n",
    "\n",
    "sns.set(style='white', context='notebook', palette='deep')\n",
    "# Set the random seed\n",
    "random_seed = 2"
   ]
  },
  {
   "cell_type": "markdown",
   "metadata": {},
   "source": [
    "# 2. Tiền xử lý\n",
    "Đọc bộ dữ liệu MNIST, chúng ta chia bộ dữ liệu thành tập train/valid/test. Đồng thời chuẩn hóa dữ liệu về khoảng [0-1] để giúp tăng tốc quá trình hội tụ. Tập valid của chúng ta sẽ gồm 20% tập train. "
   ]
  },
  {
   "cell_type": "code",
   "execution_count": 3,
   "metadata": {
    "_cell_guid": "79c7e3d0-c299-4dcb-8224-4455121ee9b0",
    "_uuid": "d629ff2d2480ee46fbb7e2d37f6b5fab8052498a"
   },
   "outputs": [],
   "source": [
    "def data():\n",
    "    # Load the data\n",
    "    train = pd.read_csv(\"../input/digit-recognizer/train.csv\")\n",
    "    test = pd.read_csv(\"../input/digit-recognizer/test.csv\")\n",
    "    Y_train = train[\"label\"]\n",
    "    \n",
    "    # Drop 'label' column\n",
    "    X_train = train.drop(labels = [\"label\"],axis = 1) \n",
    "    \n",
    "    # Normalize the data\n",
    "    X_train = X_train / 255.0\n",
    "    test = test / 255.0\n",
    "    \n",
    "    # Reshape image in 3 dimensions (height = 28px, width = 28px , canal = 1)\n",
    "    X_train = X_train.values.reshape(-1,28,28,1)\n",
    "    test = test.values.reshape(-1,28,28,1)\n",
    "    \n",
    "    # Encode labels to one hot vectors (ex : 2 -> [0,0,1,0,0,0,0,0,0,0])\n",
    "    Y_train = to_categorical(Y_train, num_classes = 10)\n",
    "    \n",
    "    return X_train, Y_train, test\n",
    "\n",
    "X, Y, X_test = data()\n"
   ]
  },
  {
   "cell_type": "markdown",
   "metadata": {},
   "source": [
    "## Kiểm tra phân bố của nhãn\n",
    "Chúng ta thấy rằng số lượng mẫu dữ liệu cho mỗi nhãn tương đương nhau. "
   ]
  },
  {
   "cell_type": "code",
   "execution_count": 4,
   "metadata": {},
   "outputs": [
    {
     "data": {
      "image/png": "[encoded data removed]",
      "text/plain": [
       "<Figure size 432x288 with 1 Axes>"
      ]
     },
     "metadata": {},
     "output_type": "display_data"
    }
   ],
   "source": [
    "g = sns.countplot(np.argmax(Y, axis=1))"
   ]
  },
  {
   "cell_type": "markdown",
   "metadata": {},
   "source": [
    "Thử nhìn qua một số mẫu trong tập huấn luyện. Chúng ta thấy rằng hầu hết các ảnh đều rõ nét và tương đối dễ dàng để nhận dạng. "
   ]
  },
  {
   "cell_type": "code",
   "execution_count": 5,
   "metadata": {},
   "outputs": [
    {
     "data": {
      "image/png": "[encoded data removed]",
      "text/plain": [
       "<Figure size 432x288 with 9 Axes>"
      ]
     },
     "metadata": {},
     "output_type": "display_data"
    }
   ],
   "source": [
    "for i in range(0, 9):\n",
    "    plt.subplot(330 + (i+1))\n",
    "    plt.imshow(X[i][:,:,0], cmap=plt.get_cmap('gray'))\n",
    "    plt.title(np.argmax(Y[i]));\n",
    "    plt.axis('off')\n",
    "plt.tight_layout()    "
   ]
  },
  {
   "cell_type": "markdown",
   "metadata": {},
   "source": [
    "Định nghĩa số epochs cần huấn luyện và bachsize"
   ]
  },
  {
   "cell_type": "code",
   "execution_count": 6,
   "metadata": {},
   "outputs": [],
   "source": [
    "epochs = 30 # Turn epochs to 30 to get 0.9967 accuracy\n",
    "batch_size = 64"
   ]
  },
  {
   "cell_type": "markdown",
   "metadata": {},
   "source": [
    "## 3. Data Augmentation\n",
    "Kĩ thuật data augmentation được sử dụng để phát sinh thêm những mẫu dữ liệu mới bằng cách áp dụng các kĩ thuật xử lý ảnh trên bức ảnh. Các phép biến đổi nhỏ này phải đảm bảo không làm thay đổi nhãn của bức ảnh. \n",
    "\n",
    "Một số kĩ thuật phổ biến của data augmentation như là:\n",
    "* Rotation: Xoay một góc nhỏ\n",
    "* Translation: Tính tiến\n",
    "* Brightness, Staturation: Thay đổi độ sáng, tương phản \n",
    "* Zoom: zoom to/nhỏ bức ảnh\n",
    "* Elastic Distortion: biến dạng bức ảnh\n",
    "* Flip: lật trái/phải/trên/dưới.\n",
    "\n",
    "Ở dưới đây, chúng ta sẽ chọn xoay 1 góc trong 0-10 độ. Zoom ảnh 0.1 lần, tịnh tiến 0.1 lần mỗi chiều."
   ]
  },
  {
   "cell_type": "code",
   "execution_count": 7,
   "metadata": {},
   "outputs": [],
   "source": [
    "# With data augmentation to prevent overfitting (accuracy 0.99286)\n",
    "train_aug = ImageDataGenerator(        \n",
    "        rotation_range=10,  # randomly rotate images in the range (degrees, 0 to 180)\n",
    "        zoom_range = 0.1, # Randomly zoom image \n",
    "        width_shift_range=0.1,  # randomly shift images horizontally (fraction of total width)\n",
    "        height_shift_range=0.1,  # randomly shift images vertically (fraction of total height)\n",
    "        )\n",
    "\n",
    "test_aug = ImageDataGenerator()\n"
   ]
  },
  {
   "cell_type": "markdown",
   "metadata": {},
   "source": [
    "# 4. Xây dưng mô hình CNN\n",
    "CNN bao gồm tập hợp các lớp cơ bản bao gồm: convolution layer + nonlinear layer, pooling layer, fully connected layer. Các lớp này liên kết với nhau theo một thứ tự nhất định. Thông thường, một ảnh sẽ được lan truyền qua tầng convolution layer + nonlinear layer đầu tiên, sau đó các giá trị tính toán được sẽ lan truyền qua pooling layer, bộ ba convolution layer + nonlinear layer + pooling layer có thể được lặp lại nhiều lần trong network. Và sau đó được lan truyền qua tầng fully connected layer và softmax để tính sác xuất ảnh đó chứa vật thế gì.\n",
    "\n",
    "![](https://pbcquoc.github.io/images/cnn_model.png)\n",
    "### Định nghĩa mô hình\n",
    "Chúng ta sử dụng Keras Sequential API để định nghĩa mô hình. Các layer được thêm vào rất dễ dàng và tương đối linh động. \n",
    "Đầu tiên chúng ta sử dụng layer Conv2D trên ảnh đầu vào. Conv2D bao gồm một tập các filters cần phải học. Mỗi filters sẽ trược qua toàn bộ bức ảnh để detect các đặt trưng trên bức ảnh đó. \n",
    "\n",
    "Pooling layer là tầng quan trọng và thường đứng sau tầng Conv. Tầng này có chức năng giảm chiều của feature maps trước đó. Đối với max-pooling, tầng này chỉ đơn giản chọn giá trị lớn nhất trong vùng có kích thước pooling_size x pooling_size (thường là 2x2). Tầng pooling này được sử dụng để giảm chi phí tính toán và giảm được overfit của mô hình. \n",
    "\n",
    "Đồng thời, Dropout cũng được sử dụng để hạn chế overfit. Dropout sẽ bỏ đi ngẫu nhiên các neuron bằng cách nhân với mask zeros, do đó, giúp mô hình học được những đặc trưng hữu ích. Dropout trong hầu hết các trường hợp đều giúp tăng độ chính xác và hạn chết overfit của mô hình. \n",
    "\n",
    "Ở tầng cuối cùng, chúng ta flatten feature matrix thành một vector, sau đó sử dụng các tầng fully connected layers để phân loại ảnh thành các lớp cho trước.\n",
    "\n",
    "Để giúp mô hình hội tụ gần với gobal minima chúng ta sử dụng annealing learning rate. Learning sẽ được điều chỉnh nhỏ dần sau mỗi lần cập nhật nếu như sau một số bước nhất định mà loss của mô hình không giảm nữa. Để giảm thời gian tính toán, chúng ta có thể sử dụng learning ban đầu lớn, sau đó giảm dần để mô hình hội tụ nhanh hơn.\n",
    "\n",
    "Ngoài ra, chúng ta sử dụng early stopping để hạn chế hiện tượng overfit của mô hình. early stopping sẽ dừng quá trình huấn luyện nếu như loss trên tập validation tăng dần trong khi trên tập lại giảm. \n",
    "\n",
    "### Sử dụng hyperas để tunning siêu tham số\n",
    "Trong quá trình định nghĩa mô hình, chúng ta sẽ lồng vào đó các đoạn mã để hỗ trợ quá trình search siêu tham số đã được định nghĩa ở trên. Chúng ta sẽ cần search các tham số như filter_size, pooling_size, dropout rate, dense size. Đồng thời chúng ta cũng thử việc điều chỉnh cả optimizer của mô hình."
   ]
  },
  {
   "cell_type": "code",
   "execution_count": 8,
   "metadata": {},
   "outputs": [],
   "source": [
    "# Set the CNN model \n",
    "def train_model(train_generator, valid_generator, params):    \n",
    "    model = Sequential()\n",
    "\n",
    "    model.add(Conv2D(filters = params['conv1'], kernel_size = params['kernel_size_1'], padding = 'Same', \n",
    "                     activation ='relu', input_shape = (28,28,1)))\n",
    "    model.add(BatchNormalization())\n",
    "    model.add(Conv2D(filters = params['conv2'], kernel_size = params['kernel_size_2'], padding = 'Same', \n",
    "                     activation ='relu'))\n",
    "    model.add(MaxPool2D(pool_size = params['pooling_size_1']))\n",
    "    model.add(Dropout(params['dropout1']))\n",
    "\n",
    "    model.add(BatchNormalization())\n",
    "    model.add(Conv2D(filters = params['conv3'], kernel_size = params['kernel_size_3'], padding = 'Same', \n",
    "                     activation ='relu'))\n",
    "    model.add(BatchNormalization())\n",
    "    model.add(Conv2D(filters = params['conv4'], kernel_size = params['kernel_size_4'], padding = 'Same', \n",
    "                     activation ='relu'))\n",
    "    model.add(MaxPool2D(pool_size = params['pooling_size_1'], strides=(2,2)))\n",
    "    model.add(Dropout(params['dropout2']))\n",
    "\n",
    "    model.add(Flatten())\n",
    "    model.add(BatchNormalization())\n",
    "    model.add(Dense(params['dense1'], activation = \"relu\"))\n",
    "    model.add(Dropout(params['dropout3']))\n",
    "    model.add(Dense(10, activation = \"softmax\"))\n",
    "    \n",
    "    if params['opt'] == 'rmsprop':\n",
    "        opt = RMSprop()\n",
    "    elif params['opt'] == 'sgd':\n",
    "        opt = SGD()\n",
    "    elif params['opt'] == 'nadam':\n",
    "        opt = Nadam()\n",
    "    else:\n",
    "        opt = Adam()\n",
    "    \n",
    "    model.compile(loss=params['loss'], optimizer=opt, metrics=['acc'])\n",
    "        \n",
    "    reduce_lr = ReduceLROnPlateau(monitor='val_loss', factor=0.3, patience=2, mode='auto', cooldown=2, min_lr=1e-7)\n",
    "    early = EarlyStopping(monitor='val_loss', patience=3)\n",
    "    \n",
    "    callbacks_list = [reduce_lr, early]    \n",
    "    \n",
    "    history = model.fit_generator(train_generator,\n",
    "                                  validation_data=valid_generator,\n",
    "                                  steps_per_epoch=len(train_generator),\n",
    "                                  validation_steps=len(valid_generator),\n",
    "                                  callbacks=callbacks_list, epochs = epochs,\n",
    "                                  verbose=2)\n",
    "    \n",
    "    score, acc = model.evaluate_generator(valid_generator, steps=len(valid_generator), verbose=0)\n",
    "    \n",
    "    return acc, model, history"
   ]
  },
  {
   "cell_type": "markdown",
   "metadata": {},
   "source": [
    "# 5. Hyper-params tunning\n",
    "Chúng ta sử dụng Hyperas để tunning các tham số. Hyperas sẽ phát sinh bộ tham số dựa trên khai báo ở trên. Sau đó huấn luyện mô hình và đánh giá trên tập validation. Bộ tham số có độ chính xác cao nhất trên tập validation sẽ được ghi nhận lại. "
   ]
  },
  {
   "cell_type": "markdown",
   "metadata": {},
   "source": [
    "## 5.1 Khai báo không gian tìm kiếm siêu tham số\n",
    "Có rất nhiều siêu tham số cần được tunning như: kiến trúc mạng, số filter, kích thước mỗi filters, kích thước pooling, các cách khởi tạo, hàm kích hoạt, tỉ lệ dropout,... Trong phần này, chúng ta sẽ tập trung vào các tham số  như kích thước filter, số filters, pooling size.\n",
    "\n",
    "Đầu tiên, chúng ta cần khai báo các siêu tham để hyperas có thể tìm kiếm trong tập đấy. Ở mỗi tầng conv, chúng ta sẽ tunning kích thước filter, filter size. Ở tầng pooling, kích thước pooling size sẽ được tunning. Đồng thời, tỉ lệ dropout ở tầng Dropout cũng được tunning. Số filters ở tầng conv thường từ 16 -> 1024, kích thước filter hay thường dùng nhất trong là 3 với 5. Còn tỉ lệ dropout nằm trong đoạn 0-1"
   ]
  },
  {
   "cell_type": "code",
   "execution_count": 9,
   "metadata": {},
   "outputs": [],
   "source": [
    "#This is the space of hyperparameters that we will search\n",
    "space = {\n",
    "    'opt':hp.choice('opt', ['adam', 'sgd', 'rmsprop']),\n",
    "    \n",
    "    'conv1':hp.choice('conv1', [16, 32, 64, 128]),\n",
    "    'conv2':hp.choice('conv2', [16, 32, 64, 128]),\n",
    "    'kernel_size_1': hp.choice('kernel_size_1', [3, 5]),\n",
    "    'kernel_size_2': hp.choice('kernel_size_2', [3, 5]),\n",
    "    'dropout1': hp.choice('dropout1', [0, 0.25, 0.5]),\n",
    "    'pooling_size_1': hp.choice('pooling_size_1', [2, 3]),\n",
    "    \n",
    "    'conv3':hp.choice('conv3', [32, 64, 128, 256, 512]),\n",
    "    'conv4':hp.choice('conv4', [32, 64, 128, 256, 512]),\n",
    "    'kernel_size_3': hp.choice('kernel_size_3', [3, 5]),\n",
    "    'kernel_size_4': hp.choice('kernel_size_4', [3, 5]),\n",
    "    'dropout2':hp.choice('dropout2', [0, 0.25, 0.5]),\n",
    "    'pooling_size_2': hp.choice('pooling_size_2', [2, 3]),\n",
    "    \n",
    "    'dense1':hp.choice('dense1', [128, 256, 512, 1024]),\n",
    "    'dropout3':hp.choice('dropout3', [0, 0.25, 0.5]),\n",
    "    \n",
    "    'loss': hp.choice('loss', ['categorical_crossentropy', 'kullback_leibler_divergence']),\n",
    "}"
   ]
  },
  {
   "cell_type": "markdown",
   "metadata": {},
   "source": [
    "## 5.2 Optimze để tìm bộ tham số tốt nhất\n",
    "Hyperas sẽ phát sinh các bộ tham số giữ trên không gian tìm kiếm định nghĩa trước của chúng ta. Sau đó thư viện sẽ hỗ trợ quá trình tìm kiếm các tham số này đơn giản bằng một số API có sẵn. "
   ]
  },
  {
   "cell_type": "code",
   "execution_count": 10,
   "metadata": {},
   "outputs": [],
   "source": [
    "X_train, X_val, Y_train, Y_val = train_test_split(X, Y, test_size = 0.2, random_state=random_seed)\n",
    "# only apply data augmentation with train data\n",
    "train_gen = train_aug.flow(X_train, Y_train, batch_size=batch_size)\n",
    "valid_gen = test_aug.flow(X_val, Y_val, batch_size=batch_size)\n",
    "\n",
    "def optimize(params):\n",
    "    acc, model, history = train_model(train_gen, valid_gen, params)\n",
    "    \n",
    "    return -acc"
   ]
  },
  {
   "cell_type": "markdown",
   "metadata": {},
   "source": [
    "Chạy quá trình search tham số. Bộ siêu tham số tốt nhất sẽ được ghi nhận lại để chúng ta sử dụng trong mô hình cuối cùng. "
   ]
  },
  {
   "cell_type": "code",
   "execution_count": 12,
   "metadata": {},
   "outputs": [
    {
     "name": "stdout",
     "output_type": "stream",
     "text": [
      "Epoch 1/30                                         \n",
      " - 18s - loss: 0.3944 - acc: 0.8977 - val_loss: 0.3459 - val_acc: 0.9586\n",
      "\n",
      "Epoch 2/30                                         \n",
      " - 13s - loss: 0.1964 - acc: 0.9536 - val_loss: 0.1851 - val_acc: 0.9806\n",
      "\n",
      "Epoch 3/30                                         \n",
      " - 14s - loss: 0.1774 - acc: 0.9618 - val_loss: 0.1839 - val_acc: 0.9806\n",
      "\n",
      "Epoch 4/30                                         \n",
      " - 13s - loss: 0.1600 - acc: 0.9657 - val_loss: 0.0698 - val_acc: 0.9895\n",
      "\n",
      "Epoch 5/30                                         \n",
      " - 14s - loss: 0.1648 - acc: 0.9682 - val_loss: 0.0926 - val_acc: 0.9892\n",
      "\n",
      "Epoch 6/30                                         \n",
      " - 14s - loss: 0.1677 - acc: 0.9685 - val_loss: 0.0797 - val_acc: 0.9883\n",
      "\n",
      "Epoch 7/30                                         \n",
      " - 14s - loss: 0.1216 - acc: 0.9772 - val_loss: 0.0541 - val_acc: 0.9913\n",
      "\n",
      "Epoch 8/30                                         \n",
      " - 14s - loss: 0.1011 - acc: 0.9814 - val_loss: 0.0691 - val_acc: 0.9936\n",
      "\n",
      "Epoch 9/30                                         \n",
      " - 13s - loss: 0.0970 - acc: 0.9813 - val_loss: 0.0410 - val_acc: 0.9930\n",
      "\n",
      "Epoch 10/30                                        \n",
      " - 13s - loss: 0.0942 - acc: 0.9825 - val_loss: 0.0595 - val_acc: 0.9931\n",
      "\n",
      "Epoch 11/30                                        \n",
      " - 14s - loss: 0.0909 - acc: 0.9831 - val_loss: 0.0568 - val_acc: 0.9936\n",
      "\n",
      "Epoch 12/30                                        \n",
      " - 13s - loss: 0.0809 - acc: 0.9860 - val_loss: 0.0482 - val_acc: 0.9945\n",
      "\n",
      "Epoch 1/30                                                                    \n",
      " - 21s - loss: 0.4246 - acc: 0.8758 - val_loss: 0.1252 - val_acc: 0.9663      \n",
      "\n",
      "Epoch 2/30                                                                    \n",
      " - 15s - loss: 0.1686 - acc: 0.9511 - val_loss: 0.0626 - val_acc: 0.9824      \n",
      "\n",
      "Epoch 3/30                                                                    \n",
      " - 15s - loss: 0.1326 - acc: 0.9616 - val_loss: 0.0648 - val_acc: 0.9835      \n",
      "\n",
      "Epoch 4/30                                                                    \n",
      " - 15s - loss: 0.1073 - acc: 0.9675 - val_loss: 0.0318 - val_acc: 0.9906      \n",
      "\n",
      "Epoch 5/30                                                                    \n",
      " - 15s - loss: 0.0943 - acc: 0.9725 - val_loss: 0.0486 - val_acc: 0.9857      \n",
      "\n",
      "Epoch 6/30                                                                    \n",
      " - 15s - loss: 0.0844 - acc: 0.9757 - val_loss: 0.0325 - val_acc: 0.9914      \n",
      "\n",
      "Epoch 7/30                                                                    \n",
      " - 15s - loss: 0.0662 - acc: 0.9808 - val_loss: 0.0294 - val_acc: 0.9919      \n",
      "\n",
      "Epoch 8/30                                                                    \n",
      " - 15s - loss: 0.0620 - acc: 0.9811 - val_loss: 0.0264 - val_acc: 0.9924      \n",
      "\n",
      "Epoch 9/30                                                                    \n",
      " - 15s - loss: 0.0587 - acc: 0.9826 - val_loss: 0.0268 - val_acc: 0.9915      \n",
      "\n",
      "Epoch 10/30                                                                   \n",
      " - 15s - loss: 0.0571 - acc: 0.9827 - val_loss: 0.0219 - val_acc: 0.9936      \n",
      "\n",
      "Epoch 11/30                                                                   \n",
      " - 15s - loss: 0.0528 - acc: 0.9830 - val_loss: 0.0267 - val_acc: 0.9931      \n",
      "\n",
      "Epoch 12/30                                                                   \n",
      " - 15s - loss: 0.0524 - acc: 0.9840 - val_loss: 0.0217 - val_acc: 0.9939      \n",
      "\n",
      "Epoch 13/30                                                                   \n",
      " - 15s - loss: 0.0505 - acc: 0.9851 - val_loss: 0.0242 - val_acc: 0.9930      \n",
      "\n",
      "Epoch 14/30                                                                   \n",
      " - 14s - loss: 0.0502 - acc: 0.9845 - val_loss: 0.0250 - val_acc: 0.9931      \n",
      "\n",
      "Epoch 15/30                                                                   \n",
      " - 15s - loss: 0.0481 - acc: 0.9848 - val_loss: 0.0223 - val_acc: 0.9939      \n",
      "\n",
      "100%|██████████| 2/2 [06:46<00:00, 191.10s/it, best loss: -0.9941666666666666]\n"
     ]
    }
   ],
   "source": [
    "best = fmin(fn = optimize, space = space, \n",
    "            algo = tpe.suggest, max_evals = 2) # change to 50 to search more"
   ]
  },
  {
   "cell_type": "code",
   "execution_count": 13,
   "metadata": {},
   "outputs": [
    {
     "name": "stdout",
     "output_type": "stream",
     "text": [
      "best hyper params: \n",
      " {'conv1': 32, 'conv2': 16, 'conv3': 256, 'conv4': 512, 'dense1': 128, 'dropout1': 0, 'dropout2': 0.5, 'dropout3': 0.5, 'kernel_size_1': 3, 'kernel_size_2': 3, 'kernel_size_3': 3, 'kernel_size_4': 5, 'loss': 'kullback_leibler_divergence', 'opt': 'rmsprop', 'pooling_size_1': 3, 'pooling_size_2': 3}\n"
     ]
    }
   ],
   "source": [
    "best_params = space_eval(space, best)\n",
    "print('best hyper params: \\n', best_params)"
   ]
  },
  {
   "cell_type": "markdown",
   "metadata": {},
   "source": [
    "Huấn luyện lại mô hình với bộ tham số tốt nhất ở trên."
   ]
  },
  {
   "cell_type": "code",
   "execution_count": 14,
   "metadata": {},
   "outputs": [
    {
     "name": "stdout",
     "output_type": "stream",
     "text": [
      "Epoch 1/30\n",
      " - 20s - loss: 0.3790 - acc: 0.9022 - val_loss: 0.2958 - val_acc: 0.9676\n",
      "Epoch 2/30\n",
      " - 14s - loss: 0.2001 - acc: 0.9546 - val_loss: 0.1549 - val_acc: 0.9836\n",
      "Epoch 3/30\n",
      " - 14s - loss: 0.1679 - acc: 0.9619 - val_loss: 0.1411 - val_acc: 0.9846\n",
      "Epoch 4/30\n",
      " - 14s - loss: 0.1626 - acc: 0.9653 - val_loss: 0.1931 - val_acc: 0.9798\n",
      "Epoch 5/30\n",
      " - 14s - loss: 0.1653 - acc: 0.9679 - val_loss: 0.1018 - val_acc: 0.9894\n",
      "Epoch 6/30\n",
      " - 14s - loss: 0.1521 - acc: 0.9707 - val_loss: 0.1329 - val_acc: 0.9879\n",
      "Epoch 7/30\n",
      " - 14s - loss: 0.1518 - acc: 0.9721 - val_loss: 0.1305 - val_acc: 0.9886\n",
      "Epoch 8/30\n",
      " - 14s - loss: 0.1109 - acc: 0.9795 - val_loss: 0.0843 - val_acc: 0.9908\n",
      "Epoch 9/30\n",
      " - 14s - loss: 0.0973 - acc: 0.9823 - val_loss: 0.0519 - val_acc: 0.9937\n",
      "Epoch 10/30\n",
      " - 14s - loss: 0.1008 - acc: 0.9814 - val_loss: 0.0564 - val_acc: 0.9942\n",
      "Epoch 11/30\n",
      " - 14s - loss: 0.1019 - acc: 0.9838 - val_loss: 0.0745 - val_acc: 0.9926\n",
      "Epoch 12/30\n",
      " - 14s - loss: 0.0850 - acc: 0.9845 - val_loss: 0.0678 - val_acc: 0.9939\n",
      "validation accuracy: 0.9947619047619047\n"
     ]
    }
   ],
   "source": [
    "acc, model, history = train_model(train_gen, valid_gen, best_params)\n",
    "print(\"validation accuracy: {}\".format(acc))"
   ]
  },
  {
   "cell_type": "markdown",
   "metadata": {},
   "source": [
    "Kết quả trên tập validation khá cao với acc > 99%"
   ]
  },
  {
   "cell_type": "markdown",
   "metadata": {},
   "source": [
    "# 6. So sánh optimizers và loss\n",
    "## 6.1 So sánh các optimzers\n",
    "\n",
    "Mục tiêu của quá trình huấn luyện mô hình ML là giảm độ lỗi của hàm loss function được tính bằng sự khác biệt của giá trị mô hình dự đoán và giá trị thực tế. Để đạt được mục đích này chúng ta thường sử dụng gradient descent. Gradient descent sẽ cập nhật trọng số của mô hình ngược với chiều gradient để giảm độ lỗi của loss function. \n",
    "![image.png](https://miro.medium.com/max/414/1*6a9Gx2UlB1ksh92TabyGPQ.png)\n",
    "\n",
    "Chúng ta sử thường sử dụng 3 optimzer phổ biến sau là adam, sgd, rmsprop để cập nhật trọng số của mô hình. \n",
    "Stochastic Gradient Descent là một biến thể của Gradient Descent, yêu cầu chúng ta phải shuffle dự liệu trước khi huấn luyện. Trong khi đó RMSProp và Adam là 2 optimizer hướng đến việc điều chỉnh learning rate tự động theo quá trình học.\n",
    "\n",
    "RMSprop (Root mean square propagation) được giới thiệu bởi Geoffrey Hinton. RMSProp giải quyết vấn đề giảm dần learning rate của Adagrad bằng cách chuẩn hóa learning với gradient gần với thời điểm cập nhật mà thôi. Để làm được điều này tác giả chia learning rate cho tổng bình phương gradient giảm dần. \n",
    "![](https://miro.medium.com/max/786/1*adEDAdjulZUJisfzurVuWw.png)\n",
    "\n",
    "Adam là optimizer phổ biến nhất tại thời điểm hiện tại. Adam cũng tính learning riêng biệt cho từng tham số, tương tự như RMSProp và Adagrad. Adam chuẩn hóa learning của mỗi tham số bằng first và second order moment của gradient. "
   ]
  },
  {
   "cell_type": "code",
   "execution_count": 15,
   "metadata": {},
   "outputs": [
    {
     "name": "stdout",
     "output_type": "stream",
     "text": [
      "Train with optimizer: rmsprop\n",
      "Epoch 1/30\n",
      " - 20s - loss: 0.3985 - acc: 0.8970 - val_loss: 0.3518 - val_acc: 0.9546\n",
      "Epoch 2/30\n",
      " - 14s - loss: 0.2062 - acc: 0.9539 - val_loss: 0.1164 - val_acc: 0.9835\n",
      "Epoch 3/30\n",
      " - 14s - loss: 0.1865 - acc: 0.9596 - val_loss: 0.1484 - val_acc: 0.9832\n",
      "Epoch 4/30\n",
      " - 14s - loss: 0.1659 - acc: 0.9654 - val_loss: 0.1225 - val_acc: 0.9870\n",
      "Epoch 5/30\n",
      " - 14s - loss: 0.1119 - acc: 0.9748 - val_loss: 0.0619 - val_acc: 0.9904\n",
      "Epoch 6/30\n",
      " - 14s - loss: 0.1001 - acc: 0.9789 - val_loss: 0.0672 - val_acc: 0.9907\n",
      "Epoch 7/30\n",
      " - 14s - loss: 0.0910 - acc: 0.9811 - val_loss: 0.0582 - val_acc: 0.9906\n",
      "Epoch 8/30\n",
      " - 14s - loss: 0.0913 - acc: 0.9815 - val_loss: 0.0505 - val_acc: 0.9924\n",
      "Epoch 9/30\n",
      " - 14s - loss: 0.0888 - acc: 0.9817 - val_loss: 0.0489 - val_acc: 0.9931\n",
      "Epoch 10/30\n",
      " - 14s - loss: 0.0914 - acc: 0.9818 - val_loss: 0.0817 - val_acc: 0.9904\n",
      "Epoch 11/30\n",
      " - 13s - loss: 0.0829 - acc: 0.9829 - val_loss: 0.0503 - val_acc: 0.9930\n",
      "Epoch 12/30\n",
      " - 14s - loss: 0.0729 - acc: 0.9852 - val_loss: 0.0596 - val_acc: 0.9923\n",
      "Train with optimizer: sgd\n",
      "Epoch 1/30\n",
      " - 20s - loss: 0.5304 - acc: 0.8355 - val_loss: 0.0686 - val_acc: 0.9800\n",
      "Epoch 2/30\n",
      " - 14s - loss: 0.1904 - acc: 0.9419 - val_loss: 0.0605 - val_acc: 0.9802\n",
      "Epoch 3/30\n",
      " - 14s - loss: 0.1487 - acc: 0.9545 - val_loss: 0.0529 - val_acc: 0.9835\n",
      "Epoch 4/30\n",
      " - 13s - loss: 0.1227 - acc: 0.9635 - val_loss: 0.0510 - val_acc: 0.9837\n",
      "Epoch 5/30\n",
      " - 14s - loss: 0.1047 - acc: 0.9679 - val_loss: 0.0318 - val_acc: 0.9896\n",
      "Epoch 6/30\n",
      " - 14s - loss: 0.0929 - acc: 0.9723 - val_loss: 0.0273 - val_acc: 0.9907\n",
      "Epoch 7/30\n",
      " - 13s - loss: 0.0884 - acc: 0.9735 - val_loss: 0.0272 - val_acc: 0.9907\n",
      "Epoch 8/30\n",
      " - 14s - loss: 0.0739 - acc: 0.9774 - val_loss: 0.0325 - val_acc: 0.9899\n",
      "Epoch 9/30\n",
      " - 14s - loss: 0.0749 - acc: 0.9778 - val_loss: 0.0202 - val_acc: 0.9937\n",
      "Epoch 10/30\n",
      " - 14s - loss: 0.0694 - acc: 0.9789 - val_loss: 0.0258 - val_acc: 0.9911\n",
      "Epoch 11/30\n",
      " - 14s - loss: 0.0721 - acc: 0.9788 - val_loss: 0.0199 - val_acc: 0.9938\n",
      "Epoch 12/30\n",
      " - 14s - loss: 0.0698 - acc: 0.9788 - val_loss: 0.0242 - val_acc: 0.9924\n",
      "Epoch 13/30\n",
      " - 14s - loss: 0.0625 - acc: 0.9814 - val_loss: 0.0191 - val_acc: 0.9933\n",
      "Epoch 14/30\n",
      " - 13s - loss: 0.0625 - acc: 0.9812 - val_loss: 0.0211 - val_acc: 0.9931\n",
      "Epoch 15/30\n",
      " - 14s - loss: 0.0619 - acc: 0.9811 - val_loss: 0.0199 - val_acc: 0.9939\n",
      "Epoch 16/30\n",
      " - 14s - loss: 0.0591 - acc: 0.9818 - val_loss: 0.0217 - val_acc: 0.9932\n",
      "Train with optimizer: adam\n",
      "Epoch 1/30\n",
      " - 21s - loss: 0.3420 - acc: 0.9055 - val_loss: 0.0890 - val_acc: 0.9798\n",
      "Epoch 2/30\n",
      " - 14s - loss: 0.1459 - acc: 0.9614 - val_loss: 0.0691 - val_acc: 0.9827\n",
      "Epoch 3/30\n",
      " - 14s - loss: 0.1059 - acc: 0.9699 - val_loss: 0.0380 - val_acc: 0.9893\n",
      "Epoch 4/30\n",
      " - 14s - loss: 0.0985 - acc: 0.9738 - val_loss: 0.0582 - val_acc: 0.9854\n",
      "Epoch 5/30\n",
      " - 14s - loss: 0.0890 - acc: 0.9763 - val_loss: 0.0442 - val_acc: 0.9870\n",
      "Epoch 6/30\n",
      " - 14s - loss: 0.0637 - acc: 0.9825 - val_loss: 0.0239 - val_acc: 0.9933\n",
      "Epoch 7/30\n",
      " - 14s - loss: 0.0457 - acc: 0.9862 - val_loss: 0.0197 - val_acc: 0.9940\n",
      "Epoch 8/30\n",
      " - 14s - loss: 0.0483 - acc: 0.9869 - val_loss: 0.0192 - val_acc: 0.9954\n",
      "Epoch 9/30\n",
      " - 14s - loss: 0.0442 - acc: 0.9879 - val_loss: 0.0221 - val_acc: 0.9942\n",
      "Epoch 10/30\n",
      " - 14s - loss: 0.0418 - acc: 0.9881 - val_loss: 0.0215 - val_acc: 0.9932\n",
      "Epoch 11/30\n",
      " - 14s - loss: 0.0335 - acc: 0.9901 - val_loss: 0.0179 - val_acc: 0.9955\n",
      "Epoch 12/30\n",
      " - 14s - loss: 0.0338 - acc: 0.9904 - val_loss: 0.0161 - val_acc: 0.9957\n",
      "Epoch 13/30\n",
      " - 14s - loss: 0.0304 - acc: 0.9918 - val_loss: 0.0209 - val_acc: 0.9954\n",
      "Epoch 14/30\n",
      " - 14s - loss: 0.0274 - acc: 0.9922 - val_loss: 0.0169 - val_acc: 0.9954\n",
      "Epoch 15/30\n",
      " - 14s - loss: 0.0279 - acc: 0.9914 - val_loss: 0.0172 - val_acc: 0.9958\n"
     ]
    }
   ],
   "source": [
    "optimizers = ['rmsprop', 'sgd', 'adam']\n",
    "hists = []\n",
    "params = best_params\n",
    "for optimizer in optimizers:\n",
    "    params['opt'] = optimizer\n",
    "    print(\"Train with optimizer: {}\".format(optimizer))\n",
    "    _, _, history = train_model(train_gen, valid_gen, params)\n",
    "    hists.append((optimizer, history))"
   ]
  },
  {
   "cell_type": "markdown",
   "metadata": {},
   "source": [
    "Plot quá trình huấn luyện mô hình với 3 lọai optimizers khác nhau."
   ]
  },
  {
   "cell_type": "code",
   "execution_count": 16,
   "metadata": {},
   "outputs": [
    {
     "data": {
      "image/png": "[encoded data removed]",
      "text/plain": [
       "<Figure size 432x288 with 1 Axes>"
      ]
     },
     "metadata": {},
     "output_type": "display_data"
    }
   ],
   "source": [
    "for name, history in hists:\n",
    "    plt.plot(history.history['val_acc'], label=name)\n",
    "\n",
    "plt.legend(loc='best', shadow=True)\n",
    "plt.tight_layout()"
   ]
  },
  {
   "cell_type": "raw",
   "metadata": {},
   "source": [
    "Chúng ta thấy rằng trong các loại optimzer trên. SGD hội tụ lâu nhất và độ chính xác cũng thấp nhất so với các optimizers còn lại. Trong khi đó, Adam hội tụ nhanh nhất, và có độ chính xác cao nhất."
   ]
  },
  {
   "cell_type": "markdown",
   "metadata": {},
   "source": [
    "## 6.2 So sánh các loss function \n",
    "Trong bài toán phân loại nhiều lớp. Chúng ta thường sử dụng 2 loại loss function sau:\n",
    "* Cross entropy\n",
    "* Kullback Leibler Divergence Loss\n",
    "\n",
    "Cross entropy được sử dụng phổ biến nhất trong bài toán của chúng ta. Cross entropy loss có nền tảng toán học của maximun likelihood được tính bằng tổng của sự khác biệt giữ giá trị dự đoán và giá trị thực tế của dữ liệu. Cross entropy error tốt nhất khi có giá trị bằng 0.\n",
    "\n",
    "KL loss (Kullback Leibler Divergence Loss) thể hiện sự khác biệt giữ 2 phân bố xác suất. KL loss bằng 0, chứng tỏ 2 phân bố này hoàn toàn giống nhau. \n",
    "\n",
    "Cross entropy cho bằng toán phân loại nhiều lớn tương đối giống với KL Loss về mặt toán học, nên có thể xem 2 độ lỗi này là một trong bài toán của chúng ta. "
   ]
  },
  {
   "cell_type": "code",
   "execution_count": 17,
   "metadata": {},
   "outputs": [
    {
     "name": "stdout",
     "output_type": "stream",
     "text": [
      "Train with loss function : categorical_crossentropy\n",
      "Epoch 1/30\n",
      " - 22s - loss: 0.3489 - acc: 0.9046 - val_loss: 0.0723 - val_acc: 0.9820\n",
      "Epoch 2/30\n",
      " - 14s - loss: 0.1505 - acc: 0.9604 - val_loss: 0.0727 - val_acc: 0.9812\n",
      "Epoch 3/30\n",
      " - 14s - loss: 0.1127 - acc: 0.9694 - val_loss: 0.0419 - val_acc: 0.9885\n",
      "Epoch 4/30\n",
      " - 14s - loss: 0.0960 - acc: 0.9733 - val_loss: 0.0465 - val_acc: 0.9896\n",
      "Epoch 5/30\n",
      " - 14s - loss: 0.0938 - acc: 0.9731 - val_loss: 0.0586 - val_acc: 0.9873\n",
      "Epoch 6/30\n",
      " - 14s - loss: 0.0633 - acc: 0.9826 - val_loss: 0.0227 - val_acc: 0.9932\n",
      "Epoch 7/30\n",
      " - 14s - loss: 0.0548 - acc: 0.9852 - val_loss: 0.0204 - val_acc: 0.9951\n",
      "Epoch 8/30\n",
      " - 14s - loss: 0.0489 - acc: 0.9863 - val_loss: 0.0216 - val_acc: 0.9942\n",
      "Epoch 9/30\n",
      " - 14s - loss: 0.0392 - acc: 0.9890 - val_loss: 0.0248 - val_acc: 0.9942\n",
      "Epoch 10/30\n",
      " - 15s - loss: 0.0391 - acc: 0.9888 - val_loss: 0.0173 - val_acc: 0.9962\n",
      "Epoch 11/30\n",
      " - 14s - loss: 0.0342 - acc: 0.9903 - val_loss: 0.0208 - val_acc: 0.9957\n",
      "Epoch 12/30\n",
      " - 14s - loss: 0.0310 - acc: 0.9911 - val_loss: 0.0185 - val_acc: 0.9954\n",
      "Epoch 13/30\n",
      " - 14s - loss: 0.0306 - acc: 0.9909 - val_loss: 0.0201 - val_acc: 0.9955\n",
      "Train with loss function : kullback_leibler_divergence\n",
      "Epoch 1/30\n",
      " - 23s - loss: 0.3567 - acc: 0.9001 - val_loss: 0.0791 - val_acc: 0.9843\n",
      "Epoch 2/30\n",
      " - 14s - loss: 0.1577 - acc: 0.9577 - val_loss: 0.0456 - val_acc: 0.9870\n",
      "Epoch 3/30\n",
      " - 14s - loss: 0.1234 - acc: 0.9677 - val_loss: 0.0420 - val_acc: 0.9881\n",
      "Epoch 4/30\n",
      " - 14s - loss: 0.0984 - acc: 0.9732 - val_loss: 0.0522 - val_acc: 0.9827\n",
      "Epoch 5/30\n",
      " - 14s - loss: 0.0932 - acc: 0.9753 - val_loss: 0.0298 - val_acc: 0.9910\n",
      "Epoch 6/30\n",
      " - 15s - loss: 0.0837 - acc: 0.9768 - val_loss: 0.0375 - val_acc: 0.9899\n",
      "Epoch 7/30\n",
      " - 15s - loss: 0.0832 - acc: 0.9777 - val_loss: 0.0330 - val_acc: 0.9910\n",
      "Epoch 8/30\n",
      " - 14s - loss: 0.0611 - acc: 0.9831 - val_loss: 0.0271 - val_acc: 0.9939\n",
      "Epoch 9/30\n",
      " - 14s - loss: 0.0492 - acc: 0.9861 - val_loss: 0.0188 - val_acc: 0.9946\n",
      "Epoch 10/30\n",
      " - 15s - loss: 0.0444 - acc: 0.9883 - val_loss: 0.0221 - val_acc: 0.9940\n",
      "Epoch 11/30\n",
      " - 14s - loss: 0.0391 - acc: 0.9889 - val_loss: 0.0205 - val_acc: 0.9943\n",
      "Epoch 12/30\n",
      " - 15s - loss: 0.0382 - acc: 0.9895 - val_loss: 0.0206 - val_acc: 0.9948\n"
     ]
    }
   ],
   "source": [
    "loss_functions = ['categorical_crossentropy', 'kullback_leibler_divergence']\n",
    "hists = []\n",
    "params = best_params\n",
    "for loss_funct in loss_functions:\n",
    "    params['loss'] = loss_funct\n",
    "    print(\"Train with loss function : {}\".format(loss_funct))\n",
    "    _, _, history = train_model(train_gen, valid_gen, params)\n",
    "    hists.append((loss_funct, history))"
   ]
  },
  {
   "cell_type": "markdown",
   "metadata": {},
   "source": [
    "Plot quá trình huấn luyện mô hình với 2 loại loss function khác nhau."
   ]
  },
  {
   "cell_type": "code",
   "execution_count": 18,
   "metadata": {},
   "outputs": [
    {
     "data": {
      "image/png": "[encoded data removed]",
      "text/plain": [
       "<Figure size 432x288 with 1 Axes>"
      ]
     },
     "metadata": {},
     "output_type": "display_data"
    }
   ],
   "source": [
    "for name, history in hists:\n",
    "    plt.plot(history.history['val_acc'], label=name)\n",
    "\n",
    "plt.legend(loc='best', shadow=True)\n",
    "plt.tight_layout()\n"
   ]
  },
  {
   "cell_type": "markdown",
   "metadata": {},
   "source": [
    "Chúng ta thấy rằng không có sự khác biệt rõ rằng về tốc độ hội tụ giữ 2 hàm loss function là cross-entropy và KL loss trong bài toán của chúng ta."
   ]
  },
  {
   "cell_type": "markdown",
   "metadata": {},
   "source": [
    "# 7. Đánh giá mô hình. \n",
    "Chúng ta sẽ xem xét một số lỗi của mô hình dự huấn luyện được. Một số lỗi dễ dàng được phát hiện bằng confusion matrix thể hiện xác xuất/số ảnh bị phân loại nhầm thành lớp khác."
   ]
  },
  {
   "cell_type": "code",
   "execution_count": 19,
   "metadata": {},
   "outputs": [
    {
     "data": {
      "image/png": "[encoded data removed]",
      "text/plain": [
       "<Figure size 432x288 with 2 Axes>"
      ]
     },
     "metadata": {},
     "output_type": "display_data"
    }
   ],
   "source": [
    "def plot_confusion_matrix(cm, classes,\n",
    "                          normalize=False,\n",
    "                          title='Confusion matrix',\n",
    "                          cmap=plt.cm.Blues):\n",
    "    \"\"\"\n",
    "    This function prints and plots the confusion matrix.\n",
    "    Normalization can be applied by setting `normalize=True`.\n",
    "    \"\"\"\n",
    "    plt.imshow(cm, interpolation='nearest', cmap=cmap)\n",
    "    plt.title(title)\n",
    "    plt.colorbar()\n",
    "    tick_marks = np.arange(len(classes))\n",
    "    plt.xticks(tick_marks, classes, rotation=45)\n",
    "    plt.yticks(tick_marks, classes)\n",
    "\n",
    "    if normalize:\n",
    "        cm = cm.astype('float') / cm.sum(axis=1)[:, np.newaxis]\n",
    "\n",
    "    thresh = cm.max() / 2.\n",
    "    for i, j in itertools.product(range(cm.shape[0]), range(cm.shape[1])):\n",
    "        plt.text(j, i, cm[i, j],\n",
    "                 horizontalalignment=\"center\",\n",
    "                 color=\"white\" if cm[i, j] > thresh else \"black\")\n",
    "\n",
    "    plt.tight_layout()\n",
    "    plt.ylabel('True label')\n",
    "    plt.xlabel('Predicted label')\n",
    "\n",
    "# Predict the values from the validation dataset\n",
    "Y_pred = model.predict(X_val)\n",
    "# Convert predictions classes to one hot vectors \n",
    "Y_pred_classes = np.argmax(Y_pred,axis = 1) \n",
    "# Convert validation observations to one hot vectors\n",
    "Y_true = np.argmax(Y_val,axis = 1) \n",
    "# compute the confusion matrix\n",
    "confusion_mtx = confusion_matrix(Y_true, Y_pred_classes) \n",
    "# plot the confusion matrix\n",
    "plot_confusion_matrix(confusion_mtx, classes = range(10)) "
   ]
  },
  {
   "cell_type": "markdown",
   "metadata": {},
   "source": [
    "Các giá trị trên đường chéo rất cao, chúng ta mô hình chúng ta có độ chính xác rất tốt.\n",
    "Nhìn vào confusion matrix ở trên, chúng ta có một số nhận xét như sau:\n",
    "* Số 4 hay nhầm lẫn với số 9, bởi vì khi viết tay đường nét của 2 số này tương tự nhau khá nhiều\n",
    "* số 3 và số 8, cũng hay bị tình trạng tương tự. "
   ]
  },
  {
   "cell_type": "markdown",
   "metadata": {},
   "source": [
    "## Hiển thị một số trường hợp bị sai\n",
    "Để có cái nhìn rõ hơn về một số mẫu bị sai, chúng ta quan sát top các mẫu có giá trị dự đoán khác nhất so với nhãn thật "
   ]
  },
  {
   "cell_type": "code",
   "execution_count": 20,
   "metadata": {},
   "outputs": [
    {
     "data": {
      "image/png": "[encoded data removed]",
      "text/plain": [
       "<Figure size 432x288 with 6 Axes>"
      ]
     },
     "metadata": {},
     "output_type": "display_data"
    }
   ],
   "source": [
    "# Display some error results \n",
    "\n",
    "# Errors are difference between predicted labels and true labels\n",
    "errors = (Y_pred_classes - Y_true != 0)\n",
    "\n",
    "Y_pred_classes_errors = Y_pred_classes[errors]\n",
    "Y_pred_errors = Y_pred[errors]\n",
    "Y_true_errors = Y_true[errors]\n",
    "X_val_errors = X_val[errors]\n",
    "\n",
    "def display_errors(errors_index,img_errors,pred_errors, obs_errors):\n",
    "    \"\"\" This function shows 6 images with their predicted and real labels\"\"\"\n",
    "    n = 0\n",
    "    nrows = 2\n",
    "    ncols = 3\n",
    "    fig, ax = plt.subplots(nrows,ncols,sharex=True,sharey=True)\n",
    "    for row in range(nrows):\n",
    "        for col in range(ncols):\n",
    "            error = errors_index[n]\n",
    "            ax[row,col].imshow((img_errors[error]).reshape((28,28)))\n",
    "            ax[row,col].set_title(\"Predicted label :{}\\nTrue label :{}\".format(pred_errors[error],obs_errors[error]))\n",
    "            n += 1\n",
    "    fig.tight_layout()\n",
    "    \n",
    "# Probabilities of the wrong predicted numbers\n",
    "Y_pred_errors_prob = np.max(Y_pred_errors,axis = 1)\n",
    "\n",
    "# Predicted probabilities of the true values in the error set\n",
    "true_prob_errors = np.diagonal(np.take(Y_pred_errors, Y_true_errors, axis=1))\n",
    "\n",
    "# Difference between the probability of the predicted label and the true label\n",
    "delta_pred_true_errors = Y_pred_errors_prob - true_prob_errors\n",
    "\n",
    "# Sorted list of the delta prob errors\n",
    "sorted_dela_errors = np.argsort(delta_pred_true_errors)\n",
    "\n",
    "# Top 6 errors \n",
    "most_important_errors = sorted_dela_errors[-6:]\n",
    "\n",
    "# Show the top 6 errors\n",
    "display_errors(most_important_errors, X_val_errors, Y_pred_classes_errors, Y_true_errors)"
   ]
  },
  {
   "cell_type": "markdown",
   "metadata": {},
   "source": [
    "Với các mẫu ảnh sai, chúng ta có thể thấy rằng những mẫu này rất khó nhận dạng nhầm lẫn sáng các lớp khác. ví dụ số 9 và 4 hay là 3 và 8"
   ]
  },
  {
   "cell_type": "markdown",
   "metadata": {},
   "source": [
    "## 8. Kfold, Predict và submit kết quả\n",
    "Chúng ta huấn luyện lại mô hình sử dụng kfold, kết quả cuối dự đoán cuối cùng là trung bình cộng sự đoán của các mô hình huấn luyện trên mỗi fold.\n",
    "Chúng ta chọn nhãn là lớp được dự đoán có xác suất cao nhất mà mô hình nhận dạng được"
   ]
  },
  {
   "cell_type": "code",
   "execution_count": 21,
   "metadata": {},
   "outputs": [
    {
     "name": "stdout",
     "output_type": "stream",
     "text": [
      "Epoch 1/30\n",
      " - 22s - loss: 0.3536 - acc: 0.9007 - val_loss: 0.1176 - val_acc: 0.9761\n",
      "Epoch 2/30\n",
      " - 14s - loss: 0.1474 - acc: 0.9599 - val_loss: 0.0517 - val_acc: 0.9882\n",
      "Epoch 3/30\n",
      " - 14s - loss: 0.1191 - acc: 0.9681 - val_loss: 0.0679 - val_acc: 0.9827\n",
      "Epoch 4/30\n",
      " - 15s - loss: 0.0960 - acc: 0.9738 - val_loss: 0.0719 - val_acc: 0.9793\n",
      "Epoch 5/30\n",
      " - 15s - loss: 0.0622 - acc: 0.9826 - val_loss: 0.0225 - val_acc: 0.9939\n",
      "Epoch 6/30\n",
      " - 14s - loss: 0.0548 - acc: 0.9851 - val_loss: 0.0268 - val_acc: 0.9927\n",
      "Epoch 7/30\n",
      " - 14s - loss: 0.0533 - acc: 0.9850 - val_loss: 0.0264 - val_acc: 0.9932\n",
      "Epoch 8/30\n",
      " - 14s - loss: 0.0434 - acc: 0.9883 - val_loss: 0.0212 - val_acc: 0.9940\n",
      "Epoch 9/30\n",
      " - 15s - loss: 0.0366 - acc: 0.9899 - val_loss: 0.0198 - val_acc: 0.9945\n",
      "Epoch 10/30\n",
      " - 15s - loss: 0.0338 - acc: 0.9897 - val_loss: 0.0189 - val_acc: 0.9943\n",
      "Epoch 11/30\n",
      " - 14s - loss: 0.0347 - acc: 0.9902 - val_loss: 0.0203 - val_acc: 0.9942\n",
      "Epoch 12/30\n",
      " - 14s - loss: 0.0337 - acc: 0.9905 - val_loss: 0.0200 - val_acc: 0.9942\n",
      "Epoch 13/30\n",
      " - 14s - loss: 0.0304 - acc: 0.9915 - val_loss: 0.0200 - val_acc: 0.9940\n",
      "Epoch 1/30\n",
      " - 23s - loss: 0.3595 - acc: 0.9015 - val_loss: 0.0687 - val_acc: 0.9846\n",
      "Epoch 2/30\n",
      " - 14s - loss: 0.1496 - acc: 0.9598 - val_loss: 0.0468 - val_acc: 0.9887\n",
      "Epoch 3/30\n",
      " - 15s - loss: 0.1190 - acc: 0.9690 - val_loss: 0.0478 - val_acc: 0.9877\n",
      "Epoch 4/30\n",
      " - 15s - loss: 0.1007 - acc: 0.9722 - val_loss: 0.0412 - val_acc: 0.9881\n",
      "Epoch 5/30\n",
      " - 14s - loss: 0.0961 - acc: 0.9734 - val_loss: 0.0385 - val_acc: 0.9907\n",
      "Epoch 6/30\n",
      " - 15s - loss: 0.0891 - acc: 0.9755 - val_loss: 0.0469 - val_acc: 0.9882\n",
      "Epoch 7/30\n",
      " - 14s - loss: 0.0831 - acc: 0.9783 - val_loss: 0.0393 - val_acc: 0.9906\n",
      "Epoch 8/30\n",
      " - 14s - loss: 0.0569 - acc: 0.9834 - val_loss: 0.0281 - val_acc: 0.9933\n",
      "Epoch 9/30\n",
      " - 15s - loss: 0.0437 - acc: 0.9873 - val_loss: 0.0238 - val_acc: 0.9938\n",
      "Epoch 10/30\n",
      " - 14s - loss: 0.0397 - acc: 0.9885 - val_loss: 0.0225 - val_acc: 0.9940\n",
      "Epoch 11/30\n",
      " - 14s - loss: 0.0399 - acc: 0.9885 - val_loss: 0.0305 - val_acc: 0.9927\n",
      "Epoch 12/30\n",
      " - 14s - loss: 0.0382 - acc: 0.9894 - val_loss: 0.0251 - val_acc: 0.9936\n",
      "Epoch 13/30\n",
      " - 14s - loss: 0.0316 - acc: 0.9904 - val_loss: 0.0233 - val_acc: 0.9949\n",
      "Epoch 1/30\n",
      " - 23s - loss: 0.3752 - acc: 0.8977 - val_loss: 0.1192 - val_acc: 0.9749\n",
      "Epoch 2/30\n",
      " - 15s - loss: 0.1443 - acc: 0.9607 - val_loss: 0.0844 - val_acc: 0.9838\n",
      "Epoch 3/30\n",
      " - 15s - loss: 0.1192 - acc: 0.9663 - val_loss: 0.0568 - val_acc: 0.9849\n",
      "Epoch 4/30\n",
      " - 14s - loss: 0.0982 - acc: 0.9731 - val_loss: 0.0615 - val_acc: 0.9848\n",
      "Epoch 5/30\n",
      " - 15s - loss: 0.0847 - acc: 0.9770 - val_loss: 0.0557 - val_acc: 0.9875\n",
      "Epoch 6/30\n",
      " - 15s - loss: 0.0870 - acc: 0.9767 - val_loss: 0.0395 - val_acc: 0.9896\n",
      "Epoch 7/30\n",
      " - 14s - loss: 0.0918 - acc: 0.9749 - val_loss: 0.0425 - val_acc: 0.9905\n",
      "Epoch 8/30\n",
      " - 15s - loss: 0.0816 - acc: 0.9781 - val_loss: 0.0383 - val_acc: 0.9905\n",
      "Epoch 9/30\n",
      " - 15s - loss: 0.0742 - acc: 0.9786 - val_loss: 0.0568 - val_acc: 0.9886\n",
      "Epoch 10/30\n",
      " - 14s - loss: 0.0736 - acc: 0.9801 - val_loss: 0.0507 - val_acc: 0.9894\n",
      "Epoch 11/30\n",
      " - 15s - loss: 0.0495 - acc: 0.9855 - val_loss: 0.0273 - val_acc: 0.9943\n",
      "Epoch 12/30\n",
      " - 14s - loss: 0.0476 - acc: 0.9868 - val_loss: 0.0248 - val_acc: 0.9944\n",
      "Epoch 13/30\n",
      " - 15s - loss: 0.0372 - acc: 0.9896 - val_loss: 0.0273 - val_acc: 0.9943\n",
      "Epoch 14/30\n",
      " - 14s - loss: 0.0386 - acc: 0.9899 - val_loss: 0.0273 - val_acc: 0.9935\n",
      "Epoch 15/30\n",
      " - 14s - loss: 0.0322 - acc: 0.9902 - val_loss: 0.0245 - val_acc: 0.9948\n",
      "Epoch 16/30\n",
      " - 15s - loss: 0.0302 - acc: 0.9918 - val_loss: 0.0256 - val_acc: 0.9944\n",
      "Epoch 17/30\n",
      " - 15s - loss: 0.0294 - acc: 0.9916 - val_loss: 0.0254 - val_acc: 0.9949\n",
      "Epoch 18/30\n",
      " - 15s - loss: 0.0244 - acc: 0.9926 - val_loss: 0.0252 - val_acc: 0.9950\n",
      "Epoch 1/30\n",
      " - 24s - loss: 0.3777 - acc: 0.8988 - val_loss: 0.0975 - val_acc: 0.9795\n",
      "Epoch 2/30\n",
      " - 15s - loss: 0.1517 - acc: 0.9597 - val_loss: 0.0520 - val_acc: 0.9880\n",
      "Epoch 3/30\n",
      " - 14s - loss: 0.1145 - acc: 0.9689 - val_loss: 0.0728 - val_acc: 0.9851\n",
      "Epoch 4/30\n",
      " - 15s - loss: 0.0992 - acc: 0.9727 - val_loss: 0.0377 - val_acc: 0.9895\n",
      "Epoch 5/30\n",
      " - 15s - loss: 0.0980 - acc: 0.9727 - val_loss: 0.0341 - val_acc: 0.9902\n",
      "Epoch 6/30\n",
      " - 14s - loss: 0.0876 - acc: 0.9767 - val_loss: 0.0282 - val_acc: 0.9917\n",
      "Epoch 7/30\n",
      " - 15s - loss: 0.0792 - acc: 0.9784 - val_loss: 0.0386 - val_acc: 0.9910\n",
      "Epoch 8/30\n",
      " - 15s - loss: 0.0855 - acc: 0.9771 - val_loss: 0.0347 - val_acc: 0.9913\n",
      "Epoch 9/30\n",
      " - 15s - loss: 0.0574 - acc: 0.9841 - val_loss: 0.0239 - val_acc: 0.9939\n",
      "Epoch 10/30\n",
      " - 15s - loss: 0.0483 - acc: 0.9865 - val_loss: 0.0215 - val_acc: 0.9949\n",
      "Epoch 11/30\n",
      " - 15s - loss: 0.0404 - acc: 0.9888 - val_loss: 0.0198 - val_acc: 0.9946\n",
      "Epoch 12/30\n",
      " - 14s - loss: 0.0429 - acc: 0.9883 - val_loss: 0.0209 - val_acc: 0.9940\n",
      "Epoch 13/30\n",
      " - 15s - loss: 0.0396 - acc: 0.9891 - val_loss: 0.0223 - val_acc: 0.9946\n",
      "Epoch 14/30\n",
      " - 15s - loss: 0.0326 - acc: 0.9913 - val_loss: 0.0175 - val_acc: 0.9960\n",
      "Epoch 15/30\n",
      " - 15s - loss: 0.0326 - acc: 0.9908 - val_loss: 0.0173 - val_acc: 0.9954\n",
      "Epoch 16/30\n",
      " - 15s - loss: 0.0302 - acc: 0.9913 - val_loss: 0.0166 - val_acc: 0.9956\n",
      "Epoch 17/30\n",
      " - 15s - loss: 0.0261 - acc: 0.9924 - val_loss: 0.0180 - val_acc: 0.9958\n",
      "Epoch 18/30\n",
      " - 15s - loss: 0.0289 - acc: 0.9920 - val_loss: 0.0159 - val_acc: 0.9955\n",
      "Epoch 19/30\n",
      " - 15s - loss: 0.0281 - acc: 0.9921 - val_loss: 0.0168 - val_acc: 0.9952\n",
      "Epoch 20/30\n",
      " - 15s - loss: 0.0259 - acc: 0.9926 - val_loss: 0.0172 - val_acc: 0.9948\n",
      "Epoch 21/30\n",
      " - 15s - loss: 0.0230 - acc: 0.9934 - val_loss: 0.0167 - val_acc: 0.9950\n",
      "Epoch 1/30\n",
      " - 25s - loss: 0.3487 - acc: 0.9023 - val_loss: 0.0927 - val_acc: 0.9807\n",
      "Epoch 2/30\n",
      " - 14s - loss: 0.1475 - acc: 0.9601 - val_loss: 0.0584 - val_acc: 0.9873\n",
      "Epoch 3/30\n",
      " - 15s - loss: 0.1112 - acc: 0.9701 - val_loss: 0.0597 - val_acc: 0.9863\n",
      "Epoch 4/30\n",
      " - 15s - loss: 0.1071 - acc: 0.9712 - val_loss: 0.0493 - val_acc: 0.9904\n",
      "Epoch 5/30\n",
      " - 15s - loss: 0.0951 - acc: 0.9741 - val_loss: 0.0405 - val_acc: 0.9905\n",
      "Epoch 6/30\n",
      " - 15s - loss: 0.0922 - acc: 0.9756 - val_loss: 0.0429 - val_acc: 0.9899\n",
      "Epoch 7/30\n",
      " - 14s - loss: 0.0824 - acc: 0.9767 - val_loss: 0.0340 - val_acc: 0.9930\n",
      "Epoch 8/30\n",
      " - 15s - loss: 0.0789 - acc: 0.9783 - val_loss: 0.0449 - val_acc: 0.9882\n",
      "Epoch 9/30\n",
      " - 15s - loss: 0.0794 - acc: 0.9782 - val_loss: 0.0398 - val_acc: 0.9902\n",
      "Epoch 10/30\n",
      " - 15s - loss: 0.0621 - acc: 0.9830 - val_loss: 0.0264 - val_acc: 0.9938\n",
      "Epoch 11/30\n",
      " - 15s - loss: 0.0478 - acc: 0.9860 - val_loss: 0.0222 - val_acc: 0.9948\n",
      "Epoch 12/30\n",
      " - 14s - loss: 0.0436 - acc: 0.9877 - val_loss: 0.0222 - val_acc: 0.9961\n",
      "Epoch 13/30\n",
      " - 15s - loss: 0.0417 - acc: 0.9878 - val_loss: 0.0199 - val_acc: 0.9958\n",
      "Epoch 14/30\n",
      " - 14s - loss: 0.0360 - acc: 0.9902 - val_loss: 0.0212 - val_acc: 0.9964\n",
      "Epoch 15/30\n",
      " - 15s - loss: 0.0343 - acc: 0.9906 - val_loss: 0.0232 - val_acc: 0.9957\n",
      "Epoch 16/30\n",
      " - 15s - loss: 0.0326 - acc: 0.9906 - val_loss: 0.0223 - val_acc: 0.9961\n"
     ]
    }
   ],
   "source": [
    "kf = KFold(n_splits=5)\n",
    "preds = []\n",
    "for train_index, valid_index in kf.split(X):\n",
    "    X_train, Y_train, X_val, Y_val = X[train_index], Y[train_index], X[valid_index], Y[valid_index]\n",
    "    train_gen = train_aug.flow(X_train, Y_train, batch_size=batch_size)\n",
    "    valid_gen = test_aug.flow(X_val, Y_val, batch_size=batch_size)\n",
    "    acc, model, history = train_model(train_gen, valid_gen, best_params)\n",
    "    \n",
    "    pred = model.predict(X_test)\n",
    "    preds.append(pred)"
   ]
  },
  {
   "cell_type": "code",
   "execution_count": 22,
   "metadata": {},
   "outputs": [],
   "source": [
    "# predict results\n",
    "results = np.mean(preds, axis=0)\n",
    "# select the indix with the maximum probability\n",
    "results = np.argmax(results,axis = 1)\n",
    "\n",
    "results = pd.Series(results,name=\"Label\")"
   ]
  },
  {
   "cell_type": "code",
   "execution_count": 23,
   "metadata": {},
   "outputs": [],
   "source": [
    "submission = pd.concat([pd.Series(range(1,28001),name = \"ImageId\"),results],axis = 1)\n",
    "\n",
    "submission.to_csv(\"cnn_mnist_datagen.csv\",index=False)"
   ]
  },
  {
   "cell_type": "markdown",
   "metadata": {},
   "source": [
    "Lúc chạy thực tế, cần thay max_evals lúc search tham số thành 50 để có được accuracy trên tập test > 0.997. Kết quả dưới đây được submit trên kaggle mà không sử dụng kfold \n",
    "![](https://github.com/pbcquoc/pbcquoc.github.io/raw/master/images/kaggle.png)"
   ]
  },
  {
   "cell_type": "code",
   "execution_count": null,
   "metadata": {},
   "outputs": [],
   "source": []
  }
 ],
 "metadata": {
  "kernelspec": {
   "display_name": "Python 3",
   "language": "python",
   "name": "python3"
  },
  "language_info": {
   "codemirror_mode": {
    "name": "ipython",
    "version": 3
   },
   "file_extension": ".py",
   "mimetype": "text/x-python",
   "name": "python",
   "nbconvert_exporter": "python",
   "pygments_lexer": "ipython3",
   "version": "3.6.5"
  }
 },
 "nbformat": 4,
 "nbformat_minor": 1
}
